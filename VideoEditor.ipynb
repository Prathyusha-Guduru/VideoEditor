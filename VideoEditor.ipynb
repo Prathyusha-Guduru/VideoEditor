{
 "cells": [
  {
   "cell_type": "code",
   "execution_count": 10,
   "metadata": {},
   "outputs": [],
   "source": [
    "import cv2\n",
    "import numpy as np\n"
   ]
  },
  {
   "cell_type": "code",
   "execution_count": 11,
   "metadata": {},
   "outputs": [],
   "source": [
    "def sketch(img):\n",
    "    gray_img = cv2.cvtColor(img,cv2.COLOR_BGR2GRAY)\n",
    "    inverted_img = 255-gray_img\n",
    "    blur_img = cv2.GaussianBlur(inverted_img,(31,31), 0,0)\n",
    "    result =  cv2.divide(gray_img, 255-blur_img, scale=256)\n",
    "    return result"
   ]
  },
  {
   "cell_type": "code",
   "execution_count": 12,
   "metadata": {},
   "outputs": [],
   "source": [
    "def gray_scale(img):\n",
    "    return cv2.cvtColor(img,cv2.COLOR_BGR2GRAY)"
   ]
  },
  {
   "cell_type": "code",
   "execution_count": 13,
   "metadata": {},
   "outputs": [],
   "source": [
    "def add_noise(img):\n",
    "    gauss = np.random.normal(0,1,img.size)\n",
    "    gauss = gauss.reshape(img.shape[0],img.shape[1],img.shape[2]).astype('uint8')\n",
    "    img_gauss = cv2.add(img,gauss)\n",
    "    return img_gauss"
   ]
  },
  {
   "cell_type": "code",
   "execution_count": 14,
   "metadata": {},
   "outputs": [],
   "source": [
    "def sepia(image):\n",
    "    kernel = np.array([[0.272, 0.534, 0.131],\n",
    "                       [0.349, 0.686, 0.168],\n",
    "                       [0.393, 0.769, 0.189]])\n",
    "    sepia_img =  cv2.filter2D(image, -1, kernel)\n",
    "    return sepia_img"
   ]
  },
  {
   "cell_type": "code",
   "execution_count": 15,
   "metadata": {},
   "outputs": [],
   "source": [
    "def gaussianBlur(image):\n",
    "    blur_img = cv2.GaussianBlur(image, (35, 35), 0)\n",
    "    return blur_img\n"
   ]
  },
  {
   "cell_type": "code",
   "execution_count": 16,
   "metadata": {},
   "outputs": [],
   "source": [
    "\n",
    "def emboss(image):\n",
    "    kernel = np.array([[0,-1,-1],[1,0,-1],[1,1,0]])\n",
    "    result =  cv2.filter2D(image, -1, kernel)\n",
    "    return result"
   ]
  },
  {
   "cell_type": "code",
   "execution_count": null,
   "metadata": {},
   "outputs": [],
   "source": [
    "cap = cv2.VideoCapture(0)\n",
    "\n",
    "while True:\n",
    "    \n",
    "    ret,frame = cap.read()\n",
    "    \n",
    "    sketch_filter = sketch(frame)\n",
    "    gray_filter  = gray_scale(frame)\n",
    "    noised = add_noise(frame)\n",
    "    sepia_img = sepia(frame)\n",
    "    blurred = gaussianBlur(frame)\n",
    "    dark = emboss(frame)\n",
    "    \n",
    "    cv2.imshow('Black and White',gray_filter)\n",
    "    cv2.imshow('Sketch',sketch_filter)\n",
    "    cv2.imshow('Noised',noised)\n",
    "    cv2.imshow('Sepia',sepia_img)\n",
    "    cv2.imshow('Blur',blurred)\n",
    "    cv2.imshow('Emboss',dark)\n",
    "    \n",
    "    \n",
    "    k = cv2.waitKey(1) & 0xff\n",
    "    if k == 27:\n",
    "        break\n",
    "    \n",
    "cap.release()\n",
    "cv2.destroyAllWindows()"
   ]
  }
 ],
 "metadata": {
  "kernelspec": {
   "display_name": "Python 3",
   "language": "python",
   "name": "python3"
  },
  "language_info": {
   "codemirror_mode": {
    "name": "ipython",
    "version": 3
   },
   "file_extension": ".py",
   "mimetype": "text/x-python",
   "name": "python",
   "nbconvert_exporter": "python",
   "pygments_lexer": "ipython3",
   "version": "3.8.3"
  }
 },
 "nbformat": 4,
 "nbformat_minor": 4
}
